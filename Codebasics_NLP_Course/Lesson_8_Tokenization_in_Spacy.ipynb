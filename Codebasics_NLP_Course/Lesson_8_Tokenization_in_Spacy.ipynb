{
 "cells": [
  {
   "cell_type": "markdown",
   "id": "f079aa4e",
   "metadata": {},
   "source": [
    "# Tokenization in Spacy: NLP Tutorial For Beginners - 8"
   ]
  },
  {
   "cell_type": "markdown",
   "id": "900d4e8f",
   "metadata": {},
   "source": [
    "https://www.youtube.com/watch?v=_lR3RjvYvF4&list=PLeo1K3hjS3uuvuAXhYjV2lMEShq2UYSwX&index=8"
   ]
  },
  {
   "cell_type": "code",
   "execution_count": null,
   "id": "52c1e469",
   "metadata": {},
   "outputs": [],
   "source": []
  },
  {
   "cell_type": "code",
   "execution_count": null,
   "id": "329dd1d1",
   "metadata": {},
   "outputs": [],
   "source": []
  },
  {
   "cell_type": "markdown",
   "id": "e9d9a1ca",
   "metadata": {},
   "source": [
    "## word tokenization"
   ]
  },
  {
   "cell_type": "code",
   "execution_count": 1,
   "id": "d27694fd",
   "metadata": {},
   "outputs": [],
   "source": [
    "import spacy"
   ]
  },
  {
   "cell_type": "code",
   "execution_count": 2,
   "id": "a8ea7dda",
   "metadata": {},
   "outputs": [
    {
     "data": {
      "text/plain": [
       "Dr. Strange loves pav bhaji of mumbai as it costs only 2$ per plate."
      ]
     },
     "execution_count": 2,
     "metadata": {},
     "output_type": "execute_result"
    }
   ],
   "source": [
    "nlp = spacy.blank(\"en\")\n",
    "\n",
    "doc = nlp(\"Dr. Strange loves pav bhaji of mumbai as it costs only 2$ per plate.\")\n",
    "\n",
    "doc"
   ]
  },
  {
   "cell_type": "code",
   "execution_count": 3,
   "id": "ea699ebd",
   "metadata": {},
   "outputs": [
    {
     "data": {
      "text/plain": [
       "spacy.tokens.doc.Doc"
      ]
     },
     "execution_count": 3,
     "metadata": {},
     "output_type": "execute_result"
    }
   ],
   "source": [
    "type(doc)"
   ]
  },
  {
   "cell_type": "code",
   "execution_count": 4,
   "id": "95c644e5",
   "metadata": {},
   "outputs": [
    {
     "data": {
      "text/plain": [
       "Dr."
      ]
     },
     "execution_count": 4,
     "metadata": {},
     "output_type": "execute_result"
    }
   ],
   "source": [
    "doc[0]"
   ]
  },
  {
   "cell_type": "code",
   "execution_count": 5,
   "id": "91e934c2",
   "metadata": {},
   "outputs": [
    {
     "data": {
      "text/plain": [
       "spacy.tokens.token.Token"
      ]
     },
     "execution_count": 5,
     "metadata": {},
     "output_type": "execute_result"
    }
   ],
   "source": [
    "type(doc[0])"
   ]
  },
  {
   "cell_type": "code",
   "execution_count": 6,
   "id": "f15ba544",
   "metadata": {},
   "outputs": [
    {
     "data": {
      "text/plain": [
       "Dr. Strange"
      ]
     },
     "execution_count": 6,
     "metadata": {},
     "output_type": "execute_result"
    }
   ],
   "source": [
    "doc[0:2]"
   ]
  },
  {
   "cell_type": "code",
   "execution_count": 7,
   "id": "145c283e",
   "metadata": {},
   "outputs": [
    {
     "data": {
      "text/plain": [
       "spacy.tokens.span.Span"
      ]
     },
     "execution_count": 7,
     "metadata": {},
     "output_type": "execute_result"
    }
   ],
   "source": [
    "type(doc[0:2])"
   ]
  },
  {
   "cell_type": "code",
   "execution_count": 8,
   "id": "fe2a3d5d",
   "metadata": {},
   "outputs": [
    {
     "data": {
      "text/plain": [
       "spacy.lang.en.English"
      ]
     },
     "execution_count": 8,
     "metadata": {},
     "output_type": "execute_result"
    }
   ],
   "source": [
    "type(nlp)"
   ]
  },
  {
   "cell_type": "code",
   "execution_count": 9,
   "id": "8a2b5f42",
   "metadata": {},
   "outputs": [
    {
     "data": {
      "text/plain": [
       "[Dr.,\n",
       " Strange,\n",
       " loves,\n",
       " pav,\n",
       " bhaji,\n",
       " of,\n",
       " mumbai,\n",
       " as,\n",
       " it,\n",
       " costs,\n",
       " only,\n",
       " 2,\n",
       " $,\n",
       " per,\n",
       " plate,\n",
       " .]"
      ]
     },
     "execution_count": 9,
     "metadata": {},
     "output_type": "execute_result"
    }
   ],
   "source": [
    "[_ for _ in doc]"
   ]
  },
  {
   "cell_type": "markdown",
   "id": "50389274",
   "metadata": {},
   "source": [
    "### methods applicable to spacy.tokens.token.Token object"
   ]
  },
  {
   "cell_type": "code",
   "execution_count": 10,
   "id": "b0cb3147",
   "metadata": {},
   "outputs": [
    {
     "data": {
      "text/plain": [
       "['_',\n",
       " '__bytes__',\n",
       " '__class__',\n",
       " '__delattr__',\n",
       " '__dir__',\n",
       " '__doc__',\n",
       " '__eq__',\n",
       " '__format__',\n",
       " '__ge__',\n",
       " '__getattribute__',\n",
       " '__gt__',\n",
       " '__hash__',\n",
       " '__init__',\n",
       " '__init_subclass__',\n",
       " '__le__',\n",
       " '__len__',\n",
       " '__lt__',\n",
       " '__ne__',\n",
       " '__new__',\n",
       " '__pyx_vtable__',\n",
       " '__reduce__',\n",
       " '__reduce_ex__',\n",
       " '__repr__',\n",
       " '__setattr__',\n",
       " '__sizeof__',\n",
       " '__str__',\n",
       " '__subclasshook__',\n",
       " '__unicode__',\n",
       " 'ancestors',\n",
       " 'check_flag',\n",
       " 'children',\n",
       " 'cluster',\n",
       " 'conjuncts',\n",
       " 'dep',\n",
       " 'dep_',\n",
       " 'doc',\n",
       " 'ent_id',\n",
       " 'ent_id_',\n",
       " 'ent_iob',\n",
       " 'ent_iob_',\n",
       " 'ent_kb_id',\n",
       " 'ent_kb_id_',\n",
       " 'ent_type',\n",
       " 'ent_type_',\n",
       " 'get_extension',\n",
       " 'has_dep',\n",
       " 'has_extension',\n",
       " 'has_head',\n",
       " 'has_morph',\n",
       " 'has_vector',\n",
       " 'head',\n",
       " 'i',\n",
       " 'idx',\n",
       " 'iob_strings',\n",
       " 'is_alpha',\n",
       " 'is_ancestor',\n",
       " 'is_ascii',\n",
       " 'is_bracket',\n",
       " 'is_currency',\n",
       " 'is_digit',\n",
       " 'is_left_punct',\n",
       " 'is_lower',\n",
       " 'is_oov',\n",
       " 'is_punct',\n",
       " 'is_quote',\n",
       " 'is_right_punct',\n",
       " 'is_sent_end',\n",
       " 'is_sent_start',\n",
       " 'is_space',\n",
       " 'is_stop',\n",
       " 'is_title',\n",
       " 'is_upper',\n",
       " 'lang',\n",
       " 'lang_',\n",
       " 'left_edge',\n",
       " 'lefts',\n",
       " 'lemma',\n",
       " 'lemma_',\n",
       " 'lex',\n",
       " 'lex_id',\n",
       " 'like_email',\n",
       " 'like_num',\n",
       " 'like_url',\n",
       " 'lower',\n",
       " 'lower_',\n",
       " 'morph',\n",
       " 'n_lefts',\n",
       " 'n_rights',\n",
       " 'nbor',\n",
       " 'norm',\n",
       " 'norm_',\n",
       " 'orth',\n",
       " 'orth_',\n",
       " 'pos',\n",
       " 'pos_',\n",
       " 'prefix',\n",
       " 'prefix_',\n",
       " 'prob',\n",
       " 'rank',\n",
       " 'remove_extension',\n",
       " 'right_edge',\n",
       " 'rights',\n",
       " 'sent',\n",
       " 'sent_start',\n",
       " 'sentiment',\n",
       " 'set_extension',\n",
       " 'set_morph',\n",
       " 'shape',\n",
       " 'shape_',\n",
       " 'similarity',\n",
       " 'subtree',\n",
       " 'suffix',\n",
       " 'suffix_',\n",
       " 'tag',\n",
       " 'tag_',\n",
       " 'tensor',\n",
       " 'text',\n",
       " 'text_with_ws',\n",
       " 'vector',\n",
       " 'vector_norm',\n",
       " 'vocab',\n",
       " 'whitespace_']"
      ]
     },
     "execution_count": 10,
     "metadata": {},
     "output_type": "execute_result"
    }
   ],
   "source": [
    "dir(doc[0])"
   ]
  },
  {
   "cell_type": "code",
   "execution_count": 11,
   "id": "9aad8182",
   "metadata": {},
   "outputs": [
    {
     "data": {
      "text/plain": [
       "Dr."
      ]
     },
     "execution_count": 11,
     "metadata": {},
     "output_type": "execute_result"
    }
   ],
   "source": [
    "doc[0]"
   ]
  },
  {
   "cell_type": "code",
   "execution_count": 12,
   "id": "11dda268",
   "metadata": {},
   "outputs": [
    {
     "data": {
      "text/plain": [
       "False"
      ]
     },
     "execution_count": 12,
     "metadata": {},
     "output_type": "execute_result"
    }
   ],
   "source": [
    "doc[0].is_currency"
   ]
  },
  {
   "cell_type": "code",
   "execution_count": 13,
   "id": "7313afc4",
   "metadata": {},
   "outputs": [
    {
     "data": {
      "text/plain": [
       "False"
      ]
     },
     "execution_count": 13,
     "metadata": {},
     "output_type": "execute_result"
    }
   ],
   "source": [
    "doc[0].is_digit"
   ]
  },
  {
   "cell_type": "markdown",
   "id": "eb437adb",
   "metadata": {},
   "source": [
    "#### let's leave only digit tokens"
   ]
  },
  {
   "cell_type": "code",
   "execution_count": 14,
   "id": "55e588d2",
   "metadata": {},
   "outputs": [
    {
     "data": {
      "text/plain": [
       "[2]"
      ]
     },
     "execution_count": 14,
     "metadata": {},
     "output_type": "execute_result"
    }
   ],
   "source": [
    "[_ for _ in doc if _.is_digit]"
   ]
  },
  {
   "cell_type": "markdown",
   "id": "ba24b3ad",
   "metadata": {},
   "source": [
    "#### let's leave only tokens which contain alphabetic symbols"
   ]
  },
  {
   "cell_type": "code",
   "execution_count": 15,
   "id": "245b64f0",
   "metadata": {},
   "outputs": [
    {
     "data": {
      "text/plain": [
       "[Strange, loves, pav, bhaji, of, mumbai, as, it, costs, only, per, plate]"
      ]
     },
     "execution_count": 15,
     "metadata": {},
     "output_type": "execute_result"
    }
   ],
   "source": [
    "[_ for _ in doc if _.is_alpha]"
   ]
  },
  {
   "cell_type": "markdown",
   "id": "7f0ca2d4",
   "metadata": {},
   "source": [
    "#### finding numerical values (both digits and written)"
   ]
  },
  {
   "cell_type": "code",
   "execution_count": 16,
   "id": "09be1950",
   "metadata": {},
   "outputs": [],
   "source": [
    "doc = nlp(\"Tony has two (2) dollars ($) and one euro (€)\")"
   ]
  },
  {
   "cell_type": "code",
   "execution_count": 17,
   "id": "fed96a1d",
   "metadata": {},
   "outputs": [
    {
     "data": {
      "text/plain": [
       "['two', '2', 'one']"
      ]
     },
     "execution_count": 17,
     "metadata": {},
     "output_type": "execute_result"
    }
   ],
   "source": [
    "[_.text for _ in doc if _.like_num]"
   ]
  },
  {
   "cell_type": "markdown",
   "id": "eb60a265",
   "metadata": {},
   "source": [
    "#### finding currency symbols"
   ]
  },
  {
   "cell_type": "code",
   "execution_count": 18,
   "id": "259957c4",
   "metadata": {},
   "outputs": [
    {
     "data": {
      "text/plain": [
       "['$', '€']"
      ]
     },
     "execution_count": 18,
     "metadata": {},
     "output_type": "execute_result"
    }
   ],
   "source": [
    "[_.text for _ in doc if _.is_currency]"
   ]
  },
  {
   "cell_type": "markdown",
   "id": "72af4173",
   "metadata": {},
   "source": [
    "#### checking tokens for different types"
   ]
  },
  {
   "cell_type": "code",
   "execution_count": 19,
   "id": "a382f081",
   "metadata": {},
   "outputs": [
    {
     "name": "stdout",
     "output_type": "stream",
     "text": [
      "Tony ==> index:  0 is_alpha: True is_punct: False like_num: False is_currency: False\n",
      "has ==> index:  1 is_alpha: True is_punct: False like_num: False is_currency: False\n",
      "two ==> index:  2 is_alpha: True is_punct: False like_num: True is_currency: False\n",
      "( ==> index:  3 is_alpha: False is_punct: True like_num: False is_currency: False\n",
      "2 ==> index:  4 is_alpha: False is_punct: False like_num: True is_currency: False\n",
      ") ==> index:  5 is_alpha: False is_punct: True like_num: False is_currency: False\n",
      "dollars ==> index:  6 is_alpha: True is_punct: False like_num: False is_currency: False\n",
      "( ==> index:  7 is_alpha: False is_punct: True like_num: False is_currency: False\n",
      "$ ==> index:  8 is_alpha: False is_punct: False like_num: False is_currency: True\n",
      ") ==> index:  9 is_alpha: False is_punct: True like_num: False is_currency: False\n",
      "and ==> index:  10 is_alpha: True is_punct: False like_num: False is_currency: False\n",
      "one ==> index:  11 is_alpha: True is_punct: False like_num: True is_currency: False\n",
      "euro ==> index:  12 is_alpha: True is_punct: False like_num: False is_currency: False\n",
      "( ==> index:  13 is_alpha: False is_punct: True like_num: False is_currency: False\n",
      "€ ==> index:  14 is_alpha: False is_punct: False like_num: False is_currency: True\n",
      ") ==> index:  15 is_alpha: False is_punct: True like_num: False is_currency: False\n"
     ]
    }
   ],
   "source": [
    "for token in doc:\n",
    "    print(token, \"==>\", \n",
    "          \"index: \", token.i, # !!! index of token !!!\n",
    "          \"is_alpha:\", token.is_alpha, \n",
    "          \"is_punct:\", token.is_punct, \n",
    "          \"like_num:\", token.like_num,\n",
    "          \"is_currency:\", token.is_currency,\n",
    "         )"
   ]
  },
  {
   "cell_type": "markdown",
   "id": "78a7d1a2",
   "metadata": {},
   "source": [
    "#### finding emails"
   ]
  },
  {
   "cell_type": "code",
   "execution_count": 20,
   "id": "b9574668",
   "metadata": {},
   "outputs": [
    {
     "data": {
      "text/plain": [
       "Our emails are: slavoj.zizek@yahoo.com and borat@mail.kz!!!"
      ]
     },
     "execution_count": 20,
     "metadata": {},
     "output_type": "execute_result"
    }
   ],
   "source": [
    "doc = \"Our emails are: slavoj.zizek@yahoo.com and borat@mail.kz!!!\"\n",
    "\n",
    "doc = nlp(doc)\n",
    "\n",
    "doc"
   ]
  },
  {
   "cell_type": "code",
   "execution_count": 21,
   "id": "7c60aee3",
   "metadata": {},
   "outputs": [
    {
     "data": {
      "text/plain": [
       "['slavoj.zizek@yahoo.com', 'borat@mail.kz']"
      ]
     },
     "execution_count": 21,
     "metadata": {},
     "output_type": "execute_result"
    }
   ],
   "source": [
    "[_.text for _ in doc if _.like_email]  # _.text mean that we need only string, not token (spacy.tokens.token.Token)"
   ]
  },
  {
   "cell_type": "code",
   "execution_count": null,
   "id": "e0008e58",
   "metadata": {},
   "outputs": [],
   "source": []
  },
  {
   "cell_type": "code",
   "execution_count": null,
   "id": "ff648748",
   "metadata": {},
   "outputs": [],
   "source": []
  },
  {
   "cell_type": "markdown",
   "id": "b3977018",
   "metadata": {},
   "source": [
    "## sentence tokenization"
   ]
  },
  {
   "cell_type": "code",
   "execution_count": 22,
   "id": "6d4df890",
   "metadata": {},
   "outputs": [],
   "source": [
    "doc = nlp(\"Dr. Strange loves pav bhaji of mumbai. It costs only 2$ per plate.\")\n",
    "\n",
    "# [_ for _ in doc.sents]"
   ]
  },
  {
   "cell_type": "markdown",
   "id": "0a95b98c",
   "metadata": {},
   "source": [
    "ValueError: [E030] Sentence boundaries unset. You can add the 'sentencizer' component to the pipeline with: `nlp.add_pipe('sentencizer')`. Alternatively, add the dependency parser or sentence recognizer, or set sentence boundaries by setting `doc[i].is_sent_start`."
   ]
  },
  {
   "cell_type": "code",
   "execution_count": 23,
   "id": "e31d9cd7",
   "metadata": {},
   "outputs": [
    {
     "data": {
      "text/plain": [
       "[]"
      ]
     },
     "execution_count": 23,
     "metadata": {},
     "output_type": "execute_result"
    }
   ],
   "source": [
    "nlp.pipe_names"
   ]
  },
  {
   "cell_type": "code",
   "execution_count": 24,
   "id": "8d60b873",
   "metadata": {},
   "outputs": [
    {
     "data": {
      "text/plain": [
       "<spacy.pipeline.sentencizer.Sentencizer at 0x1a0038e3440>"
      ]
     },
     "execution_count": 24,
     "metadata": {},
     "output_type": "execute_result"
    }
   ],
   "source": [
    "nlp.add_pipe('sentencizer')"
   ]
  },
  {
   "cell_type": "code",
   "execution_count": 25,
   "id": "63abaf4e",
   "metadata": {},
   "outputs": [
    {
     "data": {
      "text/plain": [
       "['sentencizer']"
      ]
     },
     "execution_count": 25,
     "metadata": {},
     "output_type": "execute_result"
    }
   ],
   "source": [
    "nlp.pipe_names"
   ]
  },
  {
   "cell_type": "code",
   "execution_count": 26,
   "id": "28966714",
   "metadata": {},
   "outputs": [
    {
     "data": {
      "text/plain": [
       "[Dr. Strange loves pav bhaji of mumbai., It costs only 2$ per plate.]"
      ]
     },
     "execution_count": 26,
     "metadata": {},
     "output_type": "execute_result"
    }
   ],
   "source": [
    "doc = nlp(\"Dr. Strange loves pav bhaji of mumbai. It costs only 2$ per plate.\")\n",
    "\n",
    "[_ for _ in doc.sents]"
   ]
  },
  {
   "cell_type": "code",
   "execution_count": null,
   "id": "ec40d966",
   "metadata": {},
   "outputs": [],
   "source": []
  },
  {
   "cell_type": "code",
   "execution_count": null,
   "id": "8cb6b658",
   "metadata": {},
   "outputs": [],
   "source": []
  },
  {
   "cell_type": "markdown",
   "id": "5062cc2a",
   "metadata": {},
   "source": [
    "# !!! finding French numerical values (both digits and written) !!!"
   ]
  },
  {
   "cell_type": "code",
   "execution_count": 27,
   "id": "1d349173",
   "metadata": {},
   "outputs": [
    {
     "data": {
      "text/plain": [
       "un, deux, trois, quatre, cinq, six, sept, huit, neuf, dix, onze, douze, soixante quatre (64) xxx"
      ]
     },
     "execution_count": 27,
     "metadata": {},
     "output_type": "execute_result"
    }
   ],
   "source": [
    "nlp = spacy.blank(\"fr\")\n",
    "\n",
    "doc = nlp(\"un, deux, trois, quatre, cinq, six, sept, huit, neuf, dix, onze, douze, soixante quatre (64) xxx\")\n",
    "\n",
    "doc"
   ]
  },
  {
   "cell_type": "code",
   "execution_count": 28,
   "id": "b26075e1",
   "metadata": {},
   "outputs": [
    {
     "data": {
      "text/plain": [
       "['un',\n",
       " 'deux',\n",
       " 'trois',\n",
       " 'quatre',\n",
       " 'cinq',\n",
       " 'six',\n",
       " 'sept',\n",
       " 'huit',\n",
       " 'neuf',\n",
       " 'dix',\n",
       " 'onze',\n",
       " 'douze',\n",
       " 'soixante',\n",
       " 'quatre',\n",
       " '64']"
      ]
     },
     "execution_count": 28,
     "metadata": {},
     "output_type": "execute_result"
    }
   ],
   "source": [
    "[_.text for _ in doc if _.like_num]"
   ]
  },
  {
   "cell_type": "code",
   "execution_count": null,
   "id": "08dcbf76",
   "metadata": {},
   "outputs": [],
   "source": []
  },
  {
   "cell_type": "code",
   "execution_count": null,
   "id": "89d8a319",
   "metadata": {},
   "outputs": [],
   "source": []
  }
 ],
 "metadata": {
  "kernelspec": {
   "display_name": "Python 3 (ipykernel)",
   "language": "python",
   "name": "python3"
  },
  "language_info": {
   "codemirror_mode": {
    "name": "ipython",
    "version": 3
   },
   "file_extension": ".py",
   "mimetype": "text/x-python",
   "name": "python",
   "nbconvert_exporter": "python",
   "pygments_lexer": "ipython3",
   "version": "3.9.7"
  }
 },
 "nbformat": 4,
 "nbformat_minor": 5
}
