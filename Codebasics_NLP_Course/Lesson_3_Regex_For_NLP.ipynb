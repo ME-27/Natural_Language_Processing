{
 "cells": [
  {
   "cell_type": "markdown",
   "id": "58cd9ca4",
   "metadata": {},
   "source": [
    "# Regex For NLP: NLP Tutorial For Beginners In Python - 3"
   ]
  },
  {
   "cell_type": "markdown",
   "id": "d34f5047",
   "metadata": {},
   "source": [
    "https://www.youtube.com/watch?v=lK9gx4q_vfI&list=PLeo1K3hjS3uuvuAXhYjV2lMEShq2UYSwX&index=3"
   ]
  },
  {
   "cell_type": "markdown",
   "id": "02204192",
   "metadata": {},
   "source": [
    "https://regex101.com"
   ]
  },
  {
   "cell_type": "code",
   "execution_count": 1,
   "id": "085f089d",
   "metadata": {},
   "outputs": [],
   "source": [
    "import re"
   ]
  },
  {
   "cell_type": "code",
   "execution_count": 8,
   "id": "6d6dcc04",
   "metadata": {},
   "outputs": [],
   "source": [
    "text = '''chat 1 - wdwqdqdq  1112223333 ddsdfewff\n",
    "chat 2 - asas: (111)-333-4444 dwdwdwdwd\n",
    "chat 3 ewewewe 222 111 4444 fwefwefweff'''"
   ]
  },
  {
   "cell_type": "code",
   "execution_count": 9,
   "id": "158e0eb5",
   "metadata": {},
   "outputs": [
    {
     "data": {
      "text/plain": [
       "'chat 1 - wdwqdqdq  1112223333 ddsdfewff\\nchat 2 - asas: (111)-333-4444 dwdwdwdwd\\nchat 3 ewewewe 222 111 4444 fwefwefweff'"
      ]
     },
     "execution_count": 9,
     "metadata": {},
     "output_type": "execute_result"
    }
   ],
   "source": [
    "text"
   ]
  },
  {
   "cell_type": "code",
   "execution_count": 23,
   "id": "8c412a4d",
   "metadata": {},
   "outputs": [],
   "source": [
    "pattern = '\\d{10}|\\(\\d{3}\\)-\\d{3}-\\d{4}|\\d{3} \\d{3} \\d{4}'  # | == or"
   ]
  },
  {
   "cell_type": "code",
   "execution_count": 24,
   "id": "4da9fa42",
   "metadata": {},
   "outputs": [
    {
     "data": {
      "text/plain": [
       "['1112223333', '(111)-333-4444', '222 111 4444']"
      ]
     },
     "execution_count": 24,
     "metadata": {},
     "output_type": "execute_result"
    }
   ],
   "source": [
    "matches = re.findall(pattern, text)\n",
    "matches"
   ]
  },
  {
   "cell_type": "code",
   "execution_count": null,
   "id": "29a4233e",
   "metadata": {},
   "outputs": [],
   "source": []
  }
 ],
 "metadata": {
  "kernelspec": {
   "display_name": "Python 3 (ipykernel)",
   "language": "python",
   "name": "python3"
  },
  "language_info": {
   "codemirror_mode": {
    "name": "ipython",
    "version": 3
   },
   "file_extension": ".py",
   "mimetype": "text/x-python",
   "name": "python",
   "nbconvert_exporter": "python",
   "pygments_lexer": "ipython3",
   "version": "3.9.7"
  }
 },
 "nbformat": 4,
 "nbformat_minor": 5
}
