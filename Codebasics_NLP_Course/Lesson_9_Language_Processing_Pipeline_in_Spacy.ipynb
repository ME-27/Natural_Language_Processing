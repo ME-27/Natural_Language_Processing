{
 "cells": [
  {
   "cell_type": "markdown",
   "id": "94e26c7c",
   "metadata": {},
   "source": [
    "# Language Processing Pipeline in Spacy: NLP Tutorial For Beginners - 9"
   ]
  },
  {
   "cell_type": "markdown",
   "id": "bd1fa1a4",
   "metadata": {},
   "source": [
    "https://www.youtube.com/watch?v=hKK59rfpXL0&list=PLeo1K3hjS3uuvuAXhYjV2lMEShq2UYSwX&index=10"
   ]
  },
  {
   "cell_type": "code",
   "execution_count": null,
   "id": "488de6eb",
   "metadata": {},
   "outputs": [],
   "source": []
  },
  {
   "cell_type": "code",
   "execution_count": null,
   "id": "27cad5cc",
   "metadata": {},
   "outputs": [],
   "source": []
  },
  {
   "cell_type": "code",
   "execution_count": 1,
   "id": "eb98badc",
   "metadata": {},
   "outputs": [],
   "source": [
    "import spacy"
   ]
  },
  {
   "cell_type": "code",
   "execution_count": 2,
   "id": "d63c87b8",
   "metadata": {},
   "outputs": [
    {
     "data": {
      "text/plain": [
       "[Captain,\n",
       " America,\n",
       " ate,\n",
       " 100,\n",
       " $,\n",
       " of,\n",
       " samosa,\n",
       " .,\n",
       " Then,\n",
       " he,\n",
       " said,\n",
       " I,\n",
       " can,\n",
       " do,\n",
       " it,\n",
       " all,\n",
       " day]"
      ]
     },
     "execution_count": 2,
     "metadata": {},
     "output_type": "execute_result"
    }
   ],
   "source": [
    "nlp = spacy.blank(\"en\")  # pipeline intialization; and it is blank\n",
    "\n",
    "doc = nlp(\"Captain America ate 100$ of samosa. Then he said I can do it all day\")\n",
    "\n",
    "[_ for _ in doc]"
   ]
  },
  {
   "cell_type": "code",
   "execution_count": 3,
   "id": "3c7278ad",
   "metadata": {},
   "outputs": [
    {
     "data": {
      "text/plain": [
       "[]"
      ]
     },
     "execution_count": 3,
     "metadata": {},
     "output_type": "execute_result"
    }
   ],
   "source": [
    "nlp.pipe_names"
   ]
  },
  {
   "cell_type": "code",
   "execution_count": 4,
   "id": "0bb1fb9a",
   "metadata": {},
   "outputs": [],
   "source": [
    "# pipeline intialization\n",
    "nlp = spacy.load(\"en_core_web_sm\")  # 'en' means English and 'sm' means small"
   ]
  },
  {
   "cell_type": "code",
   "execution_count": 5,
   "id": "5e56381e",
   "metadata": {},
   "outputs": [
    {
     "data": {
      "text/plain": [
       "['tok2vec', 'tagger', 'parser', 'attribute_ruler', 'lemmatizer', 'ner']"
      ]
     },
     "execution_count": 5,
     "metadata": {},
     "output_type": "execute_result"
    }
   ],
   "source": [
    "nlp.pipe_names"
   ]
  },
  {
   "cell_type": "code",
   "execution_count": 6,
   "id": "c8be1782",
   "metadata": {},
   "outputs": [
    {
     "data": {
      "text/plain": [
       "[('tok2vec', <spacy.pipeline.tok2vec.Tok2Vec at 0x1b7a353ffa0>),\n",
       " ('tagger', <spacy.pipeline.tagger.Tagger at 0x1b7a353fe80>),\n",
       " ('parser', <spacy.pipeline.dep_parser.DependencyParser at 0x1b7a3231b30>),\n",
       " ('attribute_ruler',\n",
       "  <spacy.pipeline.attributeruler.AttributeRuler at 0x1b7a35cbb40>),\n",
       " ('lemmatizer', <spacy.lang.en.lemmatizer.EnglishLemmatizer at 0x1b7a3591880>),\n",
       " ('ner', <spacy.pipeline.ner.EntityRecognizer at 0x1b7a3231c80>)]"
      ]
     },
     "execution_count": 6,
     "metadata": {},
     "output_type": "execute_result"
    }
   ],
   "source": [
    "nlp.pipeline"
   ]
  },
  {
   "cell_type": "markdown",
   "id": "a5328e90",
   "metadata": {},
   "source": [
    "Available trained pipelines for English: https://spacy.io/models/en"
   ]
  },
  {
   "cell_type": "code",
   "execution_count": 7,
   "id": "8062adb2",
   "metadata": {},
   "outputs": [],
   "source": [
    "# medium model\n",
    "\n",
    "# !python -m spacy download en_core_web_md\n",
    "nlp = spacy.load(\"en_core_web_md\")  # pipeline intialization"
   ]
  },
  {
   "cell_type": "code",
   "execution_count": 8,
   "id": "b178c9eb",
   "metadata": {},
   "outputs": [
    {
     "data": {
      "text/plain": [
       "[(Captain, 'PROPN', 'Captain'),\n",
       " (America, 'PROPN', 'America'),\n",
       " (ate, 'VERB', 'eat'),\n",
       " (100, 'NUM', '100'),\n",
       " ($, 'NOUN', '$'),\n",
       " (of, 'ADP', 'of'),\n",
       " (samosa, 'PROPN', 'samosa'),\n",
       " (., 'PUNCT', '.'),\n",
       " (Then, 'ADV', 'then'),\n",
       " (he, 'PRON', 'he'),\n",
       " (said, 'VERB', 'say'),\n",
       " (I, 'PRON', 'I'),\n",
       " (can, 'AUX', 'can'),\n",
       " (do, 'VERB', 'do'),\n",
       " (it, 'PRON', 'it'),\n",
       " (all, 'DET', 'all'),\n",
       " (day, 'NOUN', 'day')]"
      ]
     },
     "execution_count": 8,
     "metadata": {},
     "output_type": "execute_result"
    }
   ],
   "source": [
    "doc = nlp(\"Captain America ate 100$ of samosa. Then he said I can do it all day\")\n",
    "\n",
    "[(_, _.pos_, _.lemma_) for _ in doc]"
   ]
  },
  {
   "cell_type": "code",
   "execution_count": 9,
   "id": "8ddf2157",
   "metadata": {},
   "outputs": [
    {
     "data": {
      "text/plain": [
       "[('Elon Musk', 'PERSON', 'People, including fictional'),\n",
       " ('Twitter', 'ORG', 'Companies, agencies, institutions, etc.'),\n",
       " ('$45 billion', 'MONEY', 'Monetary values, including unit')]"
      ]
     },
     "execution_count": 9,
     "metadata": {},
     "output_type": "execute_result"
    }
   ],
   "source": [
    "doc = nlp(\"Elon Musk bought Twitter for $45 billion\")\n",
    "\n",
    "[(_.text, _.label_, spacy.explain(_.label_)) for _ in doc.ents]"
   ]
  },
  {
   "cell_type": "markdown",
   "id": "d99256c9",
   "metadata": {},
   "source": [
    "#### it didn't recognized Twitter as ORG using en_core_web_sm!!!"
   ]
  },
  {
   "cell_type": "markdown",
   "id": "4bb709a9",
   "metadata": {},
   "source": [
    "### visualization"
   ]
  },
  {
   "cell_type": "code",
   "execution_count": 10,
   "id": "c7efd860",
   "metadata": {},
   "outputs": [
    {
     "data": {
      "text/html": [
       "<span class=\"tex2jax_ignore\"><div class=\"entities\" style=\"line-height: 2.5; direction: ltr\">\n",
       "<mark class=\"entity\" style=\"background: #aa9cfc; padding: 0.45em 0.6em; margin: 0 0.25em; line-height: 1; border-radius: 0.35em;\">\n",
       "    Elon Musk\n",
       "    <span style=\"font-size: 0.8em; font-weight: bold; line-height: 1; border-radius: 0.35em; vertical-align: middle; margin-left: 0.5rem\">PERSON</span>\n",
       "</mark>\n",
       " bought \n",
       "<mark class=\"entity\" style=\"background: #7aecec; padding: 0.45em 0.6em; margin: 0 0.25em; line-height: 1; border-radius: 0.35em;\">\n",
       "    Twitter\n",
       "    <span style=\"font-size: 0.8em; font-weight: bold; line-height: 1; border-radius: 0.35em; vertical-align: middle; margin-left: 0.5rem\">ORG</span>\n",
       "</mark>\n",
       " for \n",
       "<mark class=\"entity\" style=\"background: #e4e7d2; padding: 0.45em 0.6em; margin: 0 0.25em; line-height: 1; border-radius: 0.35em;\">\n",
       "    $45 billion\n",
       "    <span style=\"font-size: 0.8em; font-weight: bold; line-height: 1; border-radius: 0.35em; vertical-align: middle; margin-left: 0.5rem\">MONEY</span>\n",
       "</mark>\n",
       "</div></span>"
      ],
      "text/plain": [
       "<IPython.core.display.HTML object>"
      ]
     },
     "metadata": {},
     "output_type": "display_data"
    }
   ],
   "source": [
    "from spacy import displacy\n",
    "\n",
    "displacy.render(doc, style='ent')"
   ]
  },
  {
   "cell_type": "code",
   "execution_count": null,
   "id": "fb132d5a",
   "metadata": {},
   "outputs": [],
   "source": []
  },
  {
   "cell_type": "code",
   "execution_count": null,
   "id": "fd272856",
   "metadata": {},
   "outputs": [],
   "source": []
  },
  {
   "cell_type": "markdown",
   "id": "4a5a7057",
   "metadata": {},
   "source": [
    "## French language"
   ]
  },
  {
   "cell_type": "markdown",
   "id": "7503da51",
   "metadata": {},
   "source": [
    "https://spacy.io/models/fr"
   ]
  },
  {
   "cell_type": "code",
   "execution_count": 11,
   "id": "dbe15d98",
   "metadata": {},
   "outputs": [],
   "source": [
    "# medium model\n",
    "\n",
    "# !python -m spacy download fr_core_news_md\n",
    "\n",
    "# nlp = spacy.load(\"fr_core_news_md\")  # pipeline intialization"
   ]
  },
  {
   "cell_type": "code",
   "execution_count": 12,
   "id": "a11ac7ac",
   "metadata": {},
   "outputs": [],
   "source": [
    "# large model\n",
    "\n",
    "# !python -m spacy download fr_core_news_lg\n",
    "\n",
    "nlp = spacy.load(\"fr_core_news_lg\")  # pipeline intialization"
   ]
  },
  {
   "cell_type": "code",
   "execution_count": 13,
   "id": "63ce4331",
   "metadata": {},
   "outputs": [
    {
     "data": {
      "text/plain": [
       "[('Kinshasa', 'LOC', 'Non-GPE locations, mountain ranges, bodies of water'),\n",
       " ('Kigali', 'LOC', 'Non-GPE locations, mountain ranges, bodies of water'),\n",
       " ('Tripartite', 'ORG', 'Companies, agencies, institutions, etc.'),\n",
       " ('Affaires étrangères d’Angola',\n",
       "  'ORG',\n",
       "  'Companies, agencies, institutions, etc.'),\n",
       " ('RDC', 'LOC', 'Non-GPE locations, mountain ranges, bodies of water'),\n",
       " ('Rwanda', 'LOC', 'Non-GPE locations, mountain ranges, bodies of water'),\n",
       " ('Luanda', 'LOC', 'Non-GPE locations, mountain ranges, bodies of water'),\n",
       " ('Angola', 'LOC', 'Non-GPE locations, mountain ranges, bodies of water'),\n",
       " ('A', 'LOC', 'Non-GPE locations, mountain ranges, bodies of water'),\n",
       " ('Joâo Lourenço', 'PER', 'Named person or family.'),\n",
       " ('RDC', 'LOC', 'Non-GPE locations, mountain ranges, bodies of water'),\n",
       " ('Rwanda', 'LOC', 'Non-GPE locations, mountain ranges, bodies of water'),\n",
       " ('Rwanda', 'LOC', 'Non-GPE locations, mountain ranges, bodies of water'),\n",
       " ('M23', 'ORG', 'Companies, agencies, institutions, etc.')]"
      ]
     },
     "execution_count": 13,
     "metadata": {},
     "output_type": "execute_result"
    }
   ],
   "source": [
    "doc = \"\"\"Kinshasa et Kigali ont repris le dialogue lors de la Tripartite des ministres des Affaires étrangères d’Angola, \n",
    "de la RDC et Rwanda tenue, samedi 5 novembre, à Luanda, en Angola.\n",
    "A l’initiative du président angolais et président en exercice de la CIRGL, \n",
    "Joâo Lourenço, cette rencontre a voulu rétablir le climat de confiance entre la RDC et le Rwanda, \n",
    "en froid depuis le regain de violences dans l'Est du pays et l'appui avéré du Rwanda aux rebelles du M23. \n",
    "\"\"\"\n",
    "\n",
    "doc = nlp(doc)\n",
    "\n",
    "[(_.text, _.label_, spacy.explain(_.label_)) for _ in doc.ents]"
   ]
  },
  {
   "cell_type": "code",
   "execution_count": null,
   "id": "374b4f75",
   "metadata": {},
   "outputs": [],
   "source": []
  },
  {
   "cell_type": "code",
   "execution_count": null,
   "id": "7c87e801",
   "metadata": {},
   "outputs": [],
   "source": []
  },
  {
   "cell_type": "markdown",
   "id": "3f72d488",
   "metadata": {},
   "source": [
    "### adding a component to a blank pipeline"
   ]
  },
  {
   "cell_type": "code",
   "execution_count": 14,
   "id": "add1d58a",
   "metadata": {},
   "outputs": [
    {
     "data": {
      "text/plain": [
       "['ner']"
      ]
     },
     "execution_count": 14,
     "metadata": {},
     "output_type": "execute_result"
    }
   ],
   "source": [
    "nlp = spacy.blank('fr')\n",
    "\n",
    "nlp.add_pipe('ner', source=spacy.load(\"fr_core_news_sm\"))\n",
    "\n",
    "nlp.pipe_names"
   ]
  },
  {
   "cell_type": "markdown",
   "id": "b77f911d",
   "metadata": {},
   "source": [
    "NB! doesn't work with medium and large models"
   ]
  },
  {
   "cell_type": "code",
   "execution_count": 15,
   "id": "ff86f0b2",
   "metadata": {},
   "outputs": [
    {
     "data": {
      "text/plain": [
       "[('Kinshasa', 'LOC', 'Non-GPE locations, mountain ranges, bodies of water'),\n",
       " ('Kigali', 'LOC', 'Non-GPE locations, mountain ranges, bodies of water'),\n",
       " ('Tripartite des ministres des Affaires étrangères',\n",
       "  'MISC',\n",
       "  'Miscellaneous entities, e.g. events, nationalities, products or works of art'),\n",
       " ('RDC', 'LOC', 'Non-GPE locations, mountain ranges, bodies of water'),\n",
       " ('Rwanda', 'LOC', 'Non-GPE locations, mountain ranges, bodies of water'),\n",
       " ('Luanda', 'LOC', 'Non-GPE locations, mountain ranges, bodies of water'),\n",
       " ('Angola', 'LOC', 'Non-GPE locations, mountain ranges, bodies of water'),\n",
       " ('CIRGL', 'ORG', 'Companies, agencies, institutions, etc.'),\n",
       " ('Joâo Lourenço', 'ORG', 'Companies, agencies, institutions, etc.'),\n",
       " ('RDC', 'LOC', 'Non-GPE locations, mountain ranges, bodies of water'),\n",
       " ('Rwanda', 'LOC', 'Non-GPE locations, mountain ranges, bodies of water'),\n",
       " ('Rwanda', 'LOC', 'Non-GPE locations, mountain ranges, bodies of water'),\n",
       " ('M23', 'LOC', 'Non-GPE locations, mountain ranges, bodies of water')]"
      ]
     },
     "execution_count": 15,
     "metadata": {},
     "output_type": "execute_result"
    }
   ],
   "source": [
    "doc = \"\"\"Kinshasa et Kigali ont repris le dialogue lors de la Tripartite des ministres des Affaires étrangères d’Angola, \n",
    "de la RDC et Rwanda tenue, samedi 5 novembre, à Luanda, en Angola.\n",
    "A l’initiative du président angolais et président en exercice de la CIRGL, \n",
    "Joâo Lourenço, cette rencontre a voulu rétablir le climat de confiance entre la RDC et le Rwanda, \n",
    "en froid depuis le regain de violences dans l'Est du pays et l'appui avéré du Rwanda aux rebelles du M23. \n",
    "\"\"\"\n",
    "\n",
    "doc = nlp(doc)\n",
    "\n",
    "[(_.text, _.label_, spacy.explain(_.label_)) for _ in doc.ents]"
   ]
  },
  {
   "cell_type": "code",
   "execution_count": null,
   "id": "1a607e59",
   "metadata": {},
   "outputs": [],
   "source": []
  },
  {
   "cell_type": "code",
   "execution_count": null,
   "id": "d8667ed5",
   "metadata": {},
   "outputs": [],
   "source": []
  }
 ],
 "metadata": {
  "kernelspec": {
   "display_name": "Python 3 (ipykernel)",
   "language": "python",
   "name": "python3"
  },
  "language_info": {
   "codemirror_mode": {
    "name": "ipython",
    "version": 3
   },
   "file_extension": ".py",
   "mimetype": "text/x-python",
   "name": "python",
   "nbconvert_exporter": "python",
   "pygments_lexer": "ipython3",
   "version": "3.9.7"
  }
 },
 "nbformat": 4,
 "nbformat_minor": 5
}
