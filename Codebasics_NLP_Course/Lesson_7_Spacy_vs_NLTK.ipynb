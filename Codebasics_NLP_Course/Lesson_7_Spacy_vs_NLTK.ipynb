{
 "cells": [
  {
   "cell_type": "markdown",
   "id": "b3ad1a1a",
   "metadata": {},
   "source": [
    "# Spacy vs NLTK: NLP Tutorial For Beginners In Python - 7"
   ]
  },
  {
   "cell_type": "markdown",
   "id": "44aab97b",
   "metadata": {},
   "source": [
    "https://www.youtube.com/watch?v=h2kBNEShsiE&list=PLeo1K3hjS3uuvuAXhYjV2lMEShq2UYSwX&index=7"
   ]
  },
  {
   "cell_type": "markdown",
   "id": "11f26474",
   "metadata": {},
   "source": [
    "### the idea is that spacy is object-based while nltk is string-based"
   ]
  },
  {
   "cell_type": "code",
   "execution_count": null,
   "id": "f9fb1ba7",
   "metadata": {},
   "outputs": [],
   "source": []
  },
  {
   "cell_type": "markdown",
   "id": "ceb19317",
   "metadata": {},
   "source": [
    "## spacy"
   ]
  },
  {
   "cell_type": "code",
   "execution_count": 1,
   "id": "1109bb6f",
   "metadata": {},
   "outputs": [],
   "source": [
    "import spacy"
   ]
  },
  {
   "cell_type": "code",
   "execution_count": 4,
   "id": "8a43028a",
   "metadata": {},
   "outputs": [],
   "source": [
    "nlp = spacy.load('en_core_web_sm')\n",
    "\n",
    "doc = nlp(\"Dr. Strange loves pav bhaji of mumbai. Hulk loves chat of dheli\")"
   ]
  },
  {
   "cell_type": "code",
   "execution_count": 5,
   "id": "32c5a82d",
   "metadata": {},
   "outputs": [
    {
     "name": "stdout",
     "output_type": "stream",
     "text": [
      "Dr. Strange loves pav bhaji of mumbai.\n",
      "Hulk loves chat of dheli\n"
     ]
    }
   ],
   "source": [
    "for sentence in doc.sents:\n",
    "    print(sentence)"
   ]
  },
  {
   "cell_type": "markdown",
   "id": "21e9652d",
   "metadata": {},
   "source": [
    "the entences were split not by dot, but correctly"
   ]
  },
  {
   "cell_type": "code",
   "execution_count": 13,
   "id": "5f9b0f58",
   "metadata": {},
   "outputs": [
    {
     "data": {
      "text/plain": [
       "Dr. Strange loves pav bhaji of mumbai."
      ]
     },
     "execution_count": 13,
     "metadata": {},
     "output_type": "execute_result"
    }
   ],
   "source": [
    "sentence_1 = [_ for _ in doc.sents][0]\n",
    "sentence_1"
   ]
  },
  {
   "cell_type": "code",
   "execution_count": 14,
   "id": "865807d6",
   "metadata": {},
   "outputs": [
    {
     "data": {
      "text/plain": [
       "spacy.tokens.span.Span"
      ]
     },
     "execution_count": 14,
     "metadata": {},
     "output_type": "execute_result"
    }
   ],
   "source": [
    "type(sentence_1)"
   ]
  },
  {
   "cell_type": "code",
   "execution_count": 16,
   "id": "95855192",
   "metadata": {},
   "outputs": [
    {
     "data": {
      "text/plain": [
       "Dr."
      ]
     },
     "execution_count": 16,
     "metadata": {},
     "output_type": "execute_result"
    }
   ],
   "source": [
    "word_1 = [_ for _ in sentence_1][0]\n",
    "word_1"
   ]
  },
  {
   "cell_type": "code",
   "execution_count": 17,
   "id": "fe03d638",
   "metadata": {},
   "outputs": [
    {
     "data": {
      "text/plain": [
       "spacy.tokens.token.Token"
      ]
     },
     "execution_count": 17,
     "metadata": {},
     "output_type": "execute_result"
    }
   ],
   "source": [
    "type(word_1)"
   ]
  },
  {
   "cell_type": "code",
   "execution_count": null,
   "id": "d45e7082",
   "metadata": {},
   "outputs": [],
   "source": []
  },
  {
   "cell_type": "code",
   "execution_count": null,
   "id": "697600f9",
   "metadata": {},
   "outputs": [],
   "source": []
  },
  {
   "cell_type": "markdown",
   "id": "46d57afb",
   "metadata": {},
   "source": [
    "## nltk"
   ]
  },
  {
   "cell_type": "code",
   "execution_count": 35,
   "id": "467d45b8",
   "metadata": {},
   "outputs": [],
   "source": [
    "import nltk\n",
    "from nltk.tokenize import sent_tokenize\n",
    "from nltk.tokenize import word_tokenize"
   ]
  },
  {
   "cell_type": "code",
   "execution_count": 41,
   "id": "67e0f361",
   "metadata": {},
   "outputs": [
    {
     "data": {
      "text/plain": [
       "['Dr.', 'Strange loves pav bhaji of mumbai.', 'Hulk loves chat of dheli']"
      ]
     },
     "execution_count": 41,
     "metadata": {},
     "output_type": "execute_result"
    }
   ],
   "source": [
    "doc = sent_tokenize(\"Dr. Strange loves pav bhaji of mumbai. Hulk loves chat of dheli\")\n",
    "doc"
   ]
  },
  {
   "cell_type": "markdown",
   "id": "4e1aac1f",
   "metadata": {},
   "source": [
    "spacy did well better than nltk which just devided sentences by dot!"
   ]
  },
  {
   "cell_type": "code",
   "execution_count": 37,
   "id": "b7344c63",
   "metadata": {},
   "outputs": [
    {
     "data": {
      "text/plain": [
       "'Strange loves pav bhaji of mumbai.'"
      ]
     },
     "execution_count": 37,
     "metadata": {},
     "output_type": "execute_result"
    }
   ],
   "source": [
    "sentence_2 = [_ for _ in doc][1]\n",
    "sentence_2"
   ]
  },
  {
   "cell_type": "code",
   "execution_count": 38,
   "id": "8570cbfe",
   "metadata": {
    "scrolled": true
   },
   "outputs": [
    {
     "data": {
      "text/plain": [
       "str"
      ]
     },
     "execution_count": 38,
     "metadata": {},
     "output_type": "execute_result"
    }
   ],
   "source": [
    "type(sentence_2)"
   ]
  },
  {
   "cell_type": "code",
   "execution_count": 39,
   "id": "7cb0a078",
   "metadata": {},
   "outputs": [
    {
     "data": {
      "text/plain": [
       "'loves'"
      ]
     },
     "execution_count": 39,
     "metadata": {},
     "output_type": "execute_result"
    }
   ],
   "source": [
    "word_2 = [_ for _ in word_tokenize(sentence_2)][1]\n",
    "word_2"
   ]
  },
  {
   "cell_type": "code",
   "execution_count": 40,
   "id": "82692e4f",
   "metadata": {},
   "outputs": [
    {
     "data": {
      "text/plain": [
       "str"
      ]
     },
     "execution_count": 40,
     "metadata": {},
     "output_type": "execute_result"
    }
   ],
   "source": [
    "type(word_2)"
   ]
  },
  {
   "cell_type": "code",
   "execution_count": null,
   "id": "60eee769",
   "metadata": {},
   "outputs": [],
   "source": []
  },
  {
   "cell_type": "code",
   "execution_count": null,
   "id": "9bc3b846",
   "metadata": {},
   "outputs": [],
   "source": []
  }
 ],
 "metadata": {
  "kernelspec": {
   "display_name": "Python 3 (ipykernel)",
   "language": "python",
   "name": "python3"
  },
  "language_info": {
   "codemirror_mode": {
    "name": "ipython",
    "version": 3
   },
   "file_extension": ".py",
   "mimetype": "text/x-python",
   "name": "python",
   "nbconvert_exporter": "python",
   "pygments_lexer": "ipython3",
   "version": "3.9.7"
  }
 },
 "nbformat": 4,
 "nbformat_minor": 5
}
