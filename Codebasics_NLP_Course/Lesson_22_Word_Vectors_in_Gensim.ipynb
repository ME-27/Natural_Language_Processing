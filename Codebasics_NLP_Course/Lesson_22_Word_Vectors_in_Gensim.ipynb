{
 "cells": [
  {
   "cell_type": "markdown",
   "id": "391e674f",
   "metadata": {},
   "source": [
    "# Word vectors in Gensim overview: NLP Tutorial For Beginners - 22"
   ]
  },
  {
   "cell_type": "markdown",
   "id": "012285a5",
   "metadata": {},
   "source": [
    "https://www.youtube.com/watch?v=0r2NJdalzDw&list=PLeo1K3hjS3uuvuAXhYjV2lMEShq2UYSwX&index=22"
   ]
  },
  {
   "cell_type": "markdown",
   "id": "c172d5c8",
   "metadata": {},
   "source": [
    "## word2vec"
   ]
  },
  {
   "cell_type": "code",
   "execution_count": 1,
   "id": "4e2b3202",
   "metadata": {},
   "outputs": [],
   "source": [
    "import gensim.downloader as api\n",
    "\n",
    "wv = api.load(\"word2vec-google-news-300\")"
   ]
  },
  {
   "cell_type": "markdown",
   "id": "a1825a35",
   "metadata": {},
   "source": [
    "other gensim models https://github.com/RaRe-Technologies/gensim-data"
   ]
  },
  {
   "cell_type": "markdown",
   "id": "beec1947",
   "metadata": {},
   "source": [
    "### wv.similarity"
   ]
  },
  {
   "cell_type": "code",
   "execution_count": 2,
   "id": "c00e8bd4",
   "metadata": {},
   "outputs": [
    {
     "data": {
      "text/plain": [
       "0.4098271"
      ]
     },
     "execution_count": 2,
     "metadata": {},
     "output_type": "execute_result"
    }
   ],
   "source": [
    "wv.similarity(w1=\"great\", w2=\"well\")"
   ]
  },
  {
   "cell_type": "code",
   "execution_count": 3,
   "id": "426f3692",
   "metadata": {},
   "outputs": [
    {
     "data": {
      "text/plain": [
       "0.28772825"
      ]
     },
     "execution_count": 3,
     "metadata": {},
     "output_type": "execute_result"
    }
   ],
   "source": [
    "wv.similarity(w1='profit', w2='gain')"
   ]
  },
  {
   "cell_type": "markdown",
   "id": "c955e557",
   "metadata": {},
   "source": [
    "### wv.most_similar"
   ]
  },
  {
   "cell_type": "markdown",
   "id": "a667d123",
   "metadata": {},
   "source": [
    "similarity doesn't mean that words have same meaning, it means that they are usually appear in a same context"
   ]
  },
  {
   "cell_type": "markdown",
   "id": "f002623b",
   "metadata": {},
   "source": [
    "example: \"I was feeling good\" and \"I was feeling bad\""
   ]
  },
  {
   "cell_type": "code",
   "execution_count": 4,
   "id": "6971dff3",
   "metadata": {},
   "outputs": [
    {
     "data": {
      "text/plain": [
       "[('great', 0.7291510105133057),\n",
       " ('bad', 0.7190051078796387),\n",
       " ('terrific', 0.6889115571975708),\n",
       " ('decent', 0.6837348341941833),\n",
       " ('nice', 0.6836092472076416),\n",
       " ('excellent', 0.6442928910255432),\n",
       " ('fantastic', 0.6407778263092041),\n",
       " ('better', 0.6120728850364685),\n",
       " ('solid', 0.5806034207344055),\n",
       " ('lousy', 0.5764203071594238)]"
      ]
     },
     "execution_count": 4,
     "metadata": {},
     "output_type": "execute_result"
    }
   ],
   "source": [
    "wv.most_similar(\"good\")"
   ]
  },
  {
   "cell_type": "code",
   "execution_count": 5,
   "id": "15bcf36a",
   "metadata": {},
   "outputs": [
    {
     "data": {
      "text/plain": [
       "[('does', 0.6322185397148132),\n",
       " ('Does', 0.6023139953613281),\n",
       " (\"does't\", 0.5793036818504333),\n",
       " (\"didn't\", 0.5540392398834229),\n",
       " (\"doens't\", 0.5415306687355042),\n",
       " (\"Doesn'ta\", 0.5259819030761719),\n",
       " (\"isn't\", 0.522062361240387),\n",
       " ('DOES', 0.5136390924453735),\n",
       " (\"couldn't\", 0.504936933517456),\n",
       " ('hey', 0.498014360666275)]"
      ]
     },
     "execution_count": 5,
     "metadata": {},
     "output_type": "execute_result"
    }
   ],
   "source": [
    "wv.most_similar(\"doesn't\")"
   ]
  },
  {
   "cell_type": "markdown",
   "id": "65c647ec",
   "metadata": {},
   "source": [
    "#### France - Paris + Berlin"
   ]
  },
  {
   "cell_type": "code",
   "execution_count": 6,
   "id": "bb10d845",
   "metadata": {},
   "outputs": [
    {
     "data": {
      "text/plain": [
       "[('germany', 0.5094344019889832),\n",
       " ('european', 0.4865044951438904),\n",
       " ('german', 0.4714890420436859),\n",
       " ('austria', 0.46964025497436523),\n",
       " ('swedish', 0.4645182490348816),\n",
       " ('Wissenschaft', 0.45328810811042786),\n",
       " ('denmark', 0.4477355182170868),\n",
       " ('München', 0.4438532590866089),\n",
       " ('europe', 0.4420619308948517),\n",
       " ('belgium', 0.43769749999046326)]"
      ]
     },
     "execution_count": 6,
     "metadata": {},
     "output_type": "execute_result"
    }
   ],
   "source": [
    "wv.most_similar(positive=[\"france\", \"berlin\"], negative=[\"paris\"])"
   ]
  },
  {
   "cell_type": "markdown",
   "id": "1adda52a",
   "metadata": {},
   "source": [
    "#### king - man + woman"
   ]
  },
  {
   "cell_type": "code",
   "execution_count": 7,
   "id": "6ae10852",
   "metadata": {},
   "outputs": [
    {
     "data": {
      "text/plain": [
       "[('queen', 0.7118193507194519),\n",
       " ('monarch', 0.6189674735069275),\n",
       " ('princess', 0.5902431011199951),\n",
       " ('crown_prince', 0.5499460697174072),\n",
       " ('prince', 0.5377321243286133),\n",
       " ('kings', 0.5236844420433044),\n",
       " ('Queen_Consort', 0.5235945582389832),\n",
       " ('queens', 0.518113374710083),\n",
       " ('sultan', 0.5098593831062317),\n",
       " ('monarchy', 0.5087411999702454)]"
      ]
     },
     "execution_count": 7,
     "metadata": {},
     "output_type": "execute_result"
    }
   ],
   "source": [
    "wv.most_similar(positive=[\"king\", \"woman\"], negative=[\"man\"])"
   ]
  },
  {
   "cell_type": "markdown",
   "id": "7fa778ff",
   "metadata": {},
   "source": [
    "### wv.doesnt_match"
   ]
  },
  {
   "cell_type": "code",
   "execution_count": 8,
   "id": "8e121c05",
   "metadata": {},
   "outputs": [
    {
     "data": {
      "text/plain": [
       "'whiskey'"
      ]
     },
     "execution_count": 8,
     "metadata": {},
     "output_type": "execute_result"
    }
   ],
   "source": [
    "wv.doesnt_match([\"dog\", \"cat\", \"cow\", \"whiskey\"])"
   ]
  },
  {
   "cell_type": "code",
   "execution_count": 9,
   "id": "f2d0422d",
   "metadata": {},
   "outputs": [
    {
     "data": {
      "text/plain": [
       "'whiskey'"
      ]
     },
     "execution_count": 9,
     "metadata": {},
     "output_type": "execute_result"
    }
   ],
   "source": [
    "wv.doesnt_match(\"dog cat cow whiskey\".split())  # alternative syntax"
   ]
  },
  {
   "cell_type": "markdown",
   "id": "4276768b",
   "metadata": {},
   "source": [
    "## glove"
   ]
  },
  {
   "cell_type": "code",
   "execution_count": 10,
   "id": "e9047353",
   "metadata": {},
   "outputs": [],
   "source": [
    "glv = api.load(\"glove-twitter-25\")"
   ]
  },
  {
   "cell_type": "code",
   "execution_count": 11,
   "id": "7e001953",
   "metadata": {},
   "outputs": [
    {
     "data": {
      "text/plain": [
       "[('qualcomm', 0.9118990898132324),\n",
       " ('motors', 0.907597541809082),\n",
       " ('sachs', 0.8855621814727783),\n",
       " ('alibaba', 0.8841804265975952),\n",
       " ('weber', 0.8666931390762329),\n",
       " ('deere', 0.8601743578910828),\n",
       " ('kernel', 0.8578173518180847),\n",
       " ('foxconn', 0.8552562594413757),\n",
       " ('citigroup', 0.8552471995353699),\n",
       " ('exxon', 0.855033814907074)]"
      ]
     },
     "execution_count": 11,
     "metadata": {},
     "output_type": "execute_result"
    }
   ],
   "source": [
    "glv.most_similar(\"tesla\")"
   ]
  },
  {
   "cell_type": "code",
   "execution_count": 12,
   "id": "36ae7bc2",
   "metadata": {},
   "outputs": [
    {
     "data": {
      "text/plain": [
       "'parrot'"
      ]
     },
     "execution_count": 12,
     "metadata": {},
     "output_type": "execute_result"
    }
   ],
   "source": [
    "glv.doesnt_match([\"banana\", \"orange\", \"grapes\", \"parrot\"])"
   ]
  },
  {
   "cell_type": "code",
   "execution_count": null,
   "id": "40511ae3",
   "metadata": {},
   "outputs": [],
   "source": []
  },
  {
   "cell_type": "code",
   "execution_count": null,
   "id": "a1f7579e",
   "metadata": {},
   "outputs": [],
   "source": []
  }
 ],
 "metadata": {
  "kernelspec": {
   "display_name": "Python 3 (ipykernel)",
   "language": "python",
   "name": "python3"
  },
  "language_info": {
   "codemirror_mode": {
    "name": "ipython",
    "version": 3
   },
   "file_extension": ".py",
   "mimetype": "text/x-python",
   "name": "python",
   "nbconvert_exporter": "python",
   "pygments_lexer": "ipython3",
   "version": "3.9.7"
  }
 },
 "nbformat": 4,
 "nbformat_minor": 5
}
